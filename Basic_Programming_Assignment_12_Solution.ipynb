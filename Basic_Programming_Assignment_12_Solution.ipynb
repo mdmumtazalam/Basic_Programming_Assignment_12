{
  "cells": [
    {
      "cell_type": "markdown",
      "id": "921302df",
      "metadata": {
        "id": "921302df"
      },
      "source": [
        "# Basic_Programming_Assignment_12 Solution :-\n",
        "SUBMITTED BY : MD MUMTAZ ALAM"
      ]
    },
    {
      "cell_type": "markdown",
      "id": "57839d2e",
      "metadata": {
        "id": "57839d2e"
      },
      "source": [
        "## 1.Write a Python program to Extract Unique values dictionary values?"
      ]
    },
    {
      "cell_type": "code",
      "execution_count": null,
      "id": "dd46ee84",
      "metadata": {
        "id": "dd46ee84",
        "outputId": "9846b5ca-a418-48a3-b24b-9643a1c91285"
      },
      "outputs": [
        {
          "name": "stdout",
          "output_type": "stream",
          "text": [
            "dict_values(['Gaurav', 'Sudhanshu', 'Krish', 'Gaurav', 'Krish', 'shivan', 'shivan'])\n",
            "Unique Values: ['Krish', 'Gaurav', 'shivan', 'Sudhanshu']\n"
          ]
        }
      ],
      "source": [
        "in_dict = {1:'Gaurav',2:'Sudhanshu',3:'Krish',4:'Gaurav',5:'Krish',6:'shivan',7:'shivan'}\n",
        "print(in_dict.values())\n",
        "print(f'Unique Values: {list(set(in_dict.values()))}')"
      ]
    },
    {
      "cell_type": "markdown",
      "id": "a64ee8e6",
      "metadata": {
        "id": "a64ee8e6"
      },
      "source": [
        "## 2.Write a Python program to find the sum of all items in a dictionary?"
      ]
    },
    {
      "cell_type": "code",
      "execution_count": null,
      "id": "ae5635a1",
      "metadata": {
        "id": "ae5635a1",
        "outputId": "811534d9-c326-44e9-accf-3420120caf49"
      },
      "outputs": [
        {
          "name": "stdout",
          "output_type": "stream",
          "text": [
            "Sum of All items:  2100\n"
          ]
        }
      ],
      "source": [
        "in_dict = {'A':10,'M':20,'B':30,'G':40,'P':2000}\n",
        "print('Sum of All items: ',sum(in_dict.values()))"
      ]
    },
    {
      "cell_type": "markdown",
      "id": "2b7f13b6",
      "metadata": {
        "id": "2b7f13b6"
      },
      "source": [
        "## 3.Write a Python program to Merging two Dictionaries?"
      ]
    },
    {
      "cell_type": "code",
      "execution_count": null,
      "id": "1a9a8f79",
      "metadata": {
        "id": "1a9a8f79",
        "outputId": "f820a2ea-1ef7-49a3-8e15-f42c01f98305"
      },
      "outputs": [
        {
          "name": "stdout",
          "output_type": "stream",
          "text": [
            "{'course_name': 'Ineuron', 'course_instructors': ['Sudhanshu', 'Krish']}\n"
          ]
        }
      ],
      "source": [
        "course_details = {\n",
        "    'course_name':'Ineuron'\n",
        "}\n",
        "instructors = {\n",
        "    'course_instructors':['Sudhanshu','Krish']\n",
        "}\n",
        "course_details.update(instructors)\n",
        "print(course_details)"
      ]
    },
    {
      "cell_type": "markdown",
      "id": "3580c0f5",
      "metadata": {
        "id": "3580c0f5"
      },
      "source": [
        "## 4.Write a Python program to convert key-values list to flat dictionary?"
      ]
    },
    {
      "cell_type": "code",
      "execution_count": null,
      "id": "8f7171de",
      "metadata": {
        "id": "8f7171de",
        "outputId": "ab887557-3d71-4d74-81af-188068cafb11"
      },
      "outputs": [
        {
          "name": "stdout",
          "output_type": "stream",
          "text": [
            "{'A': 10, 'B': 20, 'C': 30, 'D': 40, 'E': 50, 'F': 60, 'G': 70, 'H': 80, 'I': 90, 'J': 100}\n"
          ]
        }
      ],
      "source": [
        "in_list = [('A',10),('B',20),('C',30),('D',40),('E',50),('F',60),('G',70),('H',80),('I',90),('J',100)]\n",
        "\n",
        "# Method #1\n",
        "dict(in_list)\n",
        "\n",
        "# Method #2\n",
        "out_dict = {}\n",
        "for ele in in_list:\n",
        "    out_dict[ele[0]] = ele[1]\n",
        "print(out_dict)"
      ]
    },
    {
      "cell_type": "markdown",
      "id": "70641aff",
      "metadata": {
        "id": "70641aff"
      },
      "source": [
        "## 5.Write a Python program to insertion at the beginning in OrderedDict?"
      ]
    },
    {
      "cell_type": "code",
      "execution_count": null,
      "id": "b8be601b",
      "metadata": {
        "id": "b8be601b",
        "outputId": "d33dadd6-4098-4539-c979-b408e2c40fd5"
      },
      "outputs": [
        {
          "name": "stdout",
          "output_type": "stream",
          "text": [
            "dict_one OrderedDict([('Apple', 'Iphone'), ('Microsoft', 'Windows'), ('Google', 'chrome')])\n",
            "dict_one OrderedDict([('Apple', 'Iphone'), ('Microsoft', 'Windows'), ('Google', 'chrome'), ('Tesla', 'SpaceX')])\n",
            "dict_one OrderedDict([('Tesla', 'SpaceX'), ('Apple', 'Iphone'), ('Microsoft', 'Windows'), ('Google', 'chrome')])\n"
          ]
        }
      ],
      "source": [
        "from collections import OrderedDict\n",
        "dict_one = OrderedDict({'Apple':'Iphone','Microsoft':'Windows','Google':'chrome'})\n",
        "print('dict_one',dict_one)\n",
        "dict_two = {'Tesla':'SpaceX'}\n",
        "dict_one.update(dict_two)\n",
        "print('dict_one',dict_one)\n",
        "dict_one.move_to_end('Tesla',last=False)\n",
        "print('dict_one',dict_one)"
      ]
    },
    {
      "cell_type": "markdown",
      "id": "37151559",
      "metadata": {
        "id": "37151559"
      },
      "source": [
        "## 6.Write a Python program to check order of character in string using OrderedDict()?"
      ]
    },
    {
      "cell_type": "code",
      "execution_count": null,
      "id": "5ec60773",
      "metadata": {
        "id": "5ec60773",
        "outputId": "dcda29bd-4884-49b0-c658-8442153094dc"
      },
      "outputs": [
        {
          "name": "stdout",
          "output_type": "stream",
          "text": [
            "{'a': 1000, 'f': 200, 'd': 300, 'c': 400, 'b': 500, 'e': 600}\n",
            "OrderedDict([('a', 1000), ('b', 500), ('c', 400), ('d', 300), ('e', 600), ('f', 200)])\n"
          ]
        }
      ],
      "source": [
        "from collections import OrderedDict\n",
        "\n",
        "initial_list = {'a': 1000, 'f': 200, 'd': 300, 'c': 400, 'b': 500, 'e': 600}\n",
        "print(initial_list)\n",
        "\n",
        "final_list = OrderedDict(dict(sorted(initial_list.items())))\n",
        "print(final_list)"
      ]
    },
    {
      "cell_type": "markdown",
      "id": "f200dd07",
      "metadata": {
        "id": "f200dd07"
      },
      "source": [
        "## 7.Write a Python program to sort Python Dictionaries by Key or Value?"
      ]
    },
    {
      "cell_type": "code",
      "execution_count": null,
      "id": "ebff3ffe",
      "metadata": {
        "id": "ebff3ffe",
        "outputId": "8fb5252e-fdd8-4d3a-8a5d-bf60bfad53b0"
      },
      "outputs": [
        {
          "name": "stdout",
          "output_type": "stream",
          "text": [
            "{'Banana': 60, 'Grape': 13, 'Mango': 100, 'PineApple': 22}\n",
            "{'Grape': 13, 'PineApple': 22, 'Banana': 60, 'Mango': 100}\n"
          ]
        }
      ],
      "source": [
        "d_items = {'Mango':100,'PineApple':22,'Banana':60,'Grape':13}\n",
        "\n",
        "def sort_dict(in_dict,sort_type):\n",
        "    if sort_type == 'key':\n",
        "        print(dict(sorted(in_dict.items(), key=lambda x:x[0], reverse=False)))\n",
        "    else:\n",
        "        print(dict(sorted(in_dict.items(), key=lambda x:x[1], reverse=False)))\n",
        "        \n",
        "sort_dict(d_items,'key')        \n",
        "sort_dict(d_items,'value')"
      ]
    },
    {
      "cell_type": "markdown",
      "id": "c6b792cb",
      "metadata": {
        "id": "c6b792cb"
      },
      "source": [
        "# Thank You"
      ]
    }
  ],
  "metadata": {
    "kernelspec": {
      "display_name": "Python 3 (ipykernel)",
      "language": "python",
      "name": "python3"
    },
    "language_info": {
      "codemirror_mode": {
        "name": "ipython",
        "version": 3
      },
      "file_extension": ".py",
      "mimetype": "text/x-python",
      "name": "python",
      "nbconvert_exporter": "python",
      "pygments_lexer": "ipython3",
      "version": "3.9.7"
    },
    "colab": {
      "provenance": []
    }
  },
  "nbformat": 4,
  "nbformat_minor": 5
}